{
  "nbformat": 4,
  "nbformat_minor": 0,
  "metadata": {
    "colab": {
      "name": "CramerSolver.ipynb",
      "provenance": [],
      "collapsed_sections": []
    },
    "kernelspec": {
      "name": "python3",
      "display_name": "Python 3"
    },
    "language_info": {
      "name": "python"
    }
  },
  "cells": [
    {
      "cell_type": "markdown",
      "metadata": {
        "id": "Nz0g8V22CV8w"
      },
      "source": [
        "###This Solver uses the Cramer's Rule to solve the 3x3 Arrays\n"
      ]
    },
    {
      "cell_type": "code",
      "metadata": {
        "colab": {
          "base_uri": "https://localhost:8080/"
        },
        "id": "GpTYOwVJCCkS",
        "outputId": "b6d2129e-398f-4c37-d65d-734c2ed4263e"
      },
      "source": [
        "import numpy as np\n",
        "import pprint\n",
        "##Ingresamos los valores de las filas correspondientes\n",
        "print(\"Ingrese los valores de la primer fila: \")\n",
        "a0 = input()\n",
        "a1 = input()\n",
        "a2 = input()\n",
        "print(\"Ingrese los valores de la segunda fila: \")\n",
        "b0 = input()\n",
        "b1 = input()\n",
        "b2 = input()\n",
        "print(\"Ingrese los valores de la tercer fila: \")\n",
        "c0 = input()\n",
        "c1 = input()\n",
        "c2 = input()\n",
        "\n",
        "##Convertimos los valores de Str a Int\n",
        "a0 = int(a0)\n",
        "a1 = int(a1)\n",
        "a2 = int(a2)\n",
        "b0 = int(b0)\n",
        "b1 = int(b1)\n",
        "b2 = int(b2)\n",
        "c0 = int(c0)\n",
        "c1 = int(c1)\n",
        "c2 = int(c2)\n",
        "\n",
        "##Empezamos procedimiento\n",
        "arrayEj = np.array([[a0,a1,a2],[b0,b1,b2],[c0,c1,c2]])\n",
        "print(\"ESTE ES EL ARREGLO ORIGINAL\")\n",
        "pprint.pprint(arrayEj)\n",
        "\n",
        "##Regla de Krammer\n",
        "x1 = a0 * b1 * c2\n",
        "x2 = a1 * b2 * c0\n",
        "x3 = a2 * b0 * c1\n",
        "y1 = a1 * b0 * c2\n",
        "y2 = a0 * b2 * c1\n",
        "y3 = a2 * b1 * c0\n",
        "\n",
        "x = x1 + x2 + x3\n",
        "y = y1 + y2 + y3\n",
        "dT = x - y\n",
        "##Print ALL\n",
        "print(\"x1 = \",x1)\n",
        "print(\"x2 = \",x2)\n",
        "print(\"x3 = \",x3)\n",
        "print(\"el valor de X es: \",x)\n",
        "print(\"y1 = \",y1)\n",
        "print(\"y2 = \",y2)\n",
        "print(\"y3 = \",y3)\n",
        "print(\"el valor de Y es: \",y)\n",
        "print(\"El determinante es: \",dT)"
      ],
      "execution_count": 1,
      "outputs": [
        {
          "output_type": "stream",
          "name": "stdout",
          "text": [
            "Ingrese los valores de la primer fila: \n",
            "4\n",
            "2\n",
            "9\n",
            "Ingrese los valores de la segunda fila: \n",
            "8\n",
            "-5\n",
            "2\n",
            "Ingrese los valores de la tercer fila: \n",
            "4\n",
            "2\n",
            "7\n",
            "ESTE ES EL ARREGLO ORIGINAL\n",
            "array([[ 4,  2,  9],\n",
            "       [ 8, -5,  2],\n",
            "       [ 4,  2,  7]])\n",
            "x1 =  -140\n",
            "x2 =  16\n",
            "x3 =  144\n",
            "el valor de X es:  20\n",
            "y1 =  112\n",
            "y2 =  16\n",
            "y3 =  -180\n",
            "el valor de Y es:  -52\n",
            "El determinante es:  72\n"
          ]
        }
      ]
    }
  ]
}